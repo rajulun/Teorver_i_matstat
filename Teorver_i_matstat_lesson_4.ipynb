{
 "cells": [
  {
   "cell_type": "code",
   "execution_count": 1,
   "metadata": {},
   "outputs": [],
   "source": [
    "import pandas as pd\n",
    "import numpy as np\n",
    "from matplotlib import pyplot as plt"
   ]
  },
  {
   "cell_type": "markdown",
   "metadata": {},
   "source": [
    "__Задача 1__\n",
    "\n",
    "О непрерывной равномерно распределенной случайной величине B известно, что ее дисперсия равна 0.2. Можно ли найти правую границу величины B и ее среднее значение зная, что левая граница равна 0.5? Если да, найдите ее."
   ]
  },
  {
   "cell_type": "markdown",
   "metadata": {},
   "source": [
    "Так как нам известа дисперсия величины В, используем формулу нахождения дисперсии:\n",
    "\n",
    "$$D(X) = \\dfrac{(b - a)^2}{12}$$\n",
    "$b = \\sqrt{12 * 0.2} + a$"
   ]
  },
  {
   "cell_type": "code",
   "execution_count": 2,
   "metadata": {},
   "outputs": [
    {
     "name": "stdout",
     "output_type": "stream",
     "text": [
      "Правая граница величины B = 2.049, а среднее значение M(B) = 1.275\n"
     ]
    }
   ],
   "source": [
    "D = 0.2\n",
    "a = 0.5\n",
    "b = np.sqrt(12 * D) + a\n",
    "M_B = (a + b) / 2\n",
    "print(f'Правая граница величины B = {b:.4}, а среднее значение M(B) = {M_B:.4}')"
   ]
  },
  {
   "cell_type": "code",
   "execution_count": null,
   "metadata": {},
   "outputs": [],
   "source": []
  },
  {
   "cell_type": "markdown",
   "metadata": {},
   "source": [
    "__Задача 2__\n",
    "\n",
    "На сколько сигм (средних квадратических отклонений) отклоняется рост человека, равный 190 см, от математического ожидания роста в популяции, в которой M(X) = 178 и D(X) = 25?"
   ]
  },
  {
   "cell_type": "markdown",
   "metadata": {},
   "source": [
    "Дисперсия нормального распределения:\n",
    "\n",
    "$$D(X) = \\sigma^2$$\n",
    "\n",
    "Отсюда находим сигму:\n",
    "\n",
    "$$\\sigma = \\sqrt D(X)$$"
   ]
  },
  {
   "cell_type": "code",
   "execution_count": 3,
   "metadata": {},
   "outputs": [
    {
     "name": "stdout",
     "output_type": "stream",
     "text": [
      "На 2.4 среднеквадратических отклонений отклоняется рост в 190 см\n"
     ]
    }
   ],
   "source": [
    "M = 178\n",
    "D = 25\n",
    "r = 190\n",
    "sigma = np.sqrt(D)\n",
    "otklonenie = (r - M)/sigma\n",
    "print(f'На {otklonenie} среднеквадратических отклонений отклоняется рост в 190 см')"
   ]
  },
  {
   "cell_type": "code",
   "execution_count": null,
   "metadata": {},
   "outputs": [],
   "source": []
  },
  {
   "cell_type": "markdown",
   "metadata": {},
   "source": [
    "__Задача 3__\n",
    "\n",
    "Рост взрослого населения города X имеет нормальное распределение, причем, средний рост равен 174 см, а среднее квадратическое отклонение равно 8 см. Без использования сторонних библиотек (numpy, scipy, pandas и пр.) посчитайте, какова вероятность того, что случайным образом выбранный взрослый человек имеет рост:\n",
    "\n",
    "* больше 182 см?\n",
    "* больше 190 см?\n",
    "* от 166 см до 190 см?\n",
    "* от 166 см до 182 см?\n",
    "* от 158 см до 190 см?\n",
    "* не выше 150 см или не ниже 190 см?\n",
    "* не выше 150 см или не ниже 198 см?\n",
    "* ниже 166 см?"
   ]
  },
  {
   "cell_type": "code",
   "execution_count": 4,
   "metadata": {},
   "outputs": [],
   "source": [
    "def erfcc(x):\n",
    "    \"\"\"Complementary error function.\"\"\"\n",
    "    z = abs(x)\n",
    "    t = 1. / (1. + 0.5*z)\n",
    "    r = t * np.exp(-z*z-1.26551223+t*(1.00002368+t*(.37409196+\n",
    "        t*(.09678418+t*(-.18628806+t*(.27886807+\n",
    "        t*(-1.13520398+t*(1.48851587+t*(-.82215223+\n",
    "        t*.17087277)))))))))\n",
    "    if (x >= 0.):\n",
    "        return r\n",
    "    else:\n",
    "        return 2. - r\n",
    "\n",
    "def ncdf(x):\n",
    "    return 1. - 0.5*erfcc(x/(2**0.5))\n",
    "# http://qaru.site/questions/85670/how-to-calculate-cumulative-normal-distribution-in-python"
   ]
  },
  {
   "cell_type": "code",
   "execution_count": 5,
   "metadata": {},
   "outputs": [],
   "source": [
    "def ver_norm(x, M = 174, S = 8):\n",
    "    p_x = ncdf((x - M) / S) - ncdf((0 - M) / S)\n",
    "    return p_x"
   ]
  },
  {
   "cell_type": "code",
   "execution_count": 6,
   "metadata": {},
   "outputs": [
    {
     "name": "stdout",
     "output_type": "stream",
     "text": [
      "Вероятность встретить взрослого человека ростом:\n",
      "*) больше 182 см: 0.15865526139567465\n",
      "*) больше 190 см: 0.022750129890124482\n",
      "*) от 166 см до 190 см: 0.8185946087142009\n",
      "*) от 166 см до 182 см: 0.6826894772086507\n",
      "*) от 158 см до 190 см: 0.954499740219751\n",
      "*) не выше 150 см или не ниже 190 см: 0.024100027963380066\n",
      "*) не выше 150 см или не ниже 198 см: 0.0026997961465111686\n",
      "*) ниже 166 см: 0.15865526139567465\n"
     ]
    }
   ],
   "source": [
    "print('Вероятность встретить взрослого человека ростом:')\n",
    "print(f'*) больше 182 см: {1-ver_norm(182)}')\n",
    "print(f'*) больше 190 см: {1-ver_norm(190)}')\n",
    "print(f'*) от 166 см до 190 см: {ver_norm(190)-ver_norm(166)}')\n",
    "print(f'*) от 166 см до 182 см: {ver_norm(182)-ver_norm(166)}')\n",
    "print(f'*) от 158 см до 190 см: {ver_norm(190)-ver_norm(158)}')\n",
    "print(f'*) не выше 150 см или не ниже 190 см: {1-ver_norm(190)+ver_norm(150)}')\n",
    "print(f'*) не выше 150 см или не ниже 198 см: {1-ver_norm(198)+ver_norm(150)}')\n",
    "print(f'*) ниже 166 см: {ver_norm(166)}')"
   ]
  },
  {
   "cell_type": "code",
   "execution_count": null,
   "metadata": {},
   "outputs": [],
   "source": []
  }
 ],
 "metadata": {
  "kernelspec": {
   "display_name": "Python 3",
   "language": "python",
   "name": "python3"
  },
  "language_info": {
   "codemirror_mode": {
    "name": "ipython",
    "version": 3
   },
   "file_extension": ".py",
   "mimetype": "text/x-python",
   "name": "python",
   "nbconvert_exporter": "python",
   "pygments_lexer": "ipython3",
   "version": "3.7.3"
  }
 },
 "nbformat": 4,
 "nbformat_minor": 2
}
