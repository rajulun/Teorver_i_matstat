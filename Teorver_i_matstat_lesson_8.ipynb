{
 "cells": [
  {
   "cell_type": "markdown",
   "metadata": {},
   "source": [
    "### Урок 8. Дисперсионный анализ. Факторный анализ. Логистическая регрессия\n",
    "\n",
    "__Задача 1__\n",
    "\n",
    "Проведите дисперсионный анализ для определения того, есть ли различия среднего роста среди взрослых футболистов, хоккеистов и штангистов. Даны значения роста в трёх группах случайно выбранных спортсменов: \n",
    "\n",
    "* football_players = [173, 175, 180, 178, 177, 185, 183, 182]\n",
    "* hockey_players = [177, 179, 180, 188, 177, 172, 171, 184, 180]\n",
    "* lifters = [172, 173, 169, 177, 166, 180, 178, 177, 172, 166, 170]"
   ]
  },
  {
   "cell_type": "code",
   "execution_count": 1,
   "metadata": {},
   "outputs": [],
   "source": [
    "import numpy as np\n",
    "from scipy import stats"
   ]
  },
  {
   "cell_type": "code",
   "execution_count": 2,
   "metadata": {},
   "outputs": [
    {
     "name": "stdout",
     "output_type": "stream",
     "text": [
      "Количество элементов в группе футболистов- 8, для хоккеистов- 9, для штангистов- 11\n"
     ]
    }
   ],
   "source": [
    "football_players = np.array([173, 175, 180, 178, 177, 185, 183, 182])\n",
    "hockey_players = np.array([177, 179, 180, 188, 177, 172, 171, 184, 180])\n",
    "lifters = np.array([172, 173, 169, 177, 166, 180, 178, 177, 172, 166, 170])\n",
    "\n",
    "n1 = football_players.shape[0]\n",
    "n2 = hockey_players.shape[0]\n",
    "n3 = lifters.shape[0]\n",
    "\n",
    "print(f'Количество элементов в группе футболистов- {n1}, для хоккеистов- {n2}, для штангистов- {n3}')"
   ]
  },
  {
   "cell_type": "code",
   "execution_count": 3,
   "metadata": {},
   "outputs": [
    {
     "name": "stdout",
     "output_type": "stream",
     "text": [
      "Cреднее значение в выборке футболистов 179.125, хоккеистов 178.66666666666666, штангистов 172.72727272727272\n"
     ]
    }
   ],
   "source": [
    "y1_mean = football_players.mean()\n",
    "y2_mean = hockey_players.mean()\n",
    "y3_mean = lifters.mean()\n",
    "\n",
    "print(f'Cреднее значение в выборке футболистов {y1_mean}, хоккеистов {y2_mean}, штангистов {y3_mean}')"
   ]
  },
  {
   "cell_type": "code",
   "execution_count": 4,
   "metadata": {},
   "outputs": [
    {
     "name": "stdout",
     "output_type": "stream",
     "text": [
      "Cреднее значение по всем выборкам- 176.46428571428572\n"
     ]
    }
   ],
   "source": [
    "y = np.concatenate([football_players, hockey_players, lifters])\n",
    "y_mean = y.mean()\n",
    "print(f'Cреднее значение по всем выборкам- {y_mean}')"
   ]
  },
  {
   "cell_type": "markdown",
   "metadata": {},
   "source": [
    "Найдём значения $S_F$ и $S_{res}$:"
   ]
  },
  {
   "cell_type": "code",
   "execution_count": 5,
   "metadata": {},
   "outputs": [
    {
     "name": "stdout",
     "output_type": "stream",
     "text": [
      "Значение S2_F- 253.9074675324678б значение S2_res- 577.0568181818182\n"
     ]
    }
   ],
   "source": [
    "S2_F = n1 * (y1_mean - y_mean) ** 2 + n2 * (y2_mean - y_mean) ** 2 + n3 * (y3_mean - y_mean) ** 2\n",
    "\n",
    "S2_res = ((football_players - y1_mean) ** 2).sum() + ((hockey_players - y2_mean) ** 2).sum() + ((lifters - y3_mean) ** 2).sum()\n",
    "\n",
    "print(f'Значение S2_F- {S2_F}б значение S2_res- {S2_res}')"
   ]
  },
  {
   "cell_type": "markdown",
   "metadata": {},
   "source": [
    "Проверим выполнение равенства $S^2 = S_F^2 + S_{res}^2:$"
   ]
  },
  {
   "cell_type": "code",
   "execution_count": 6,
   "metadata": {},
   "outputs": [
    {
     "data": {
      "text/plain": [
       "(830.964285714286, 830.9642857142854)"
      ]
     },
     "execution_count": 6,
     "metadata": {},
     "output_type": "execute_result"
    }
   ],
   "source": [
    "S2_F + S2_res, ((y - y_mean) ** 2).sum()"
   ]
  },
  {
   "cell_type": "markdown",
   "metadata": {},
   "source": [
    "Запишем оценки дисперсий:"
   ]
  },
  {
   "cell_type": "code",
   "execution_count": 7,
   "metadata": {},
   "outputs": [
    {
     "data": {
      "text/plain": [
       "(126.9537337662339, 23.08227272727273)"
      ]
     },
     "execution_count": 7,
     "metadata": {},
     "output_type": "execute_result"
    }
   ],
   "source": [
    "k = 3\n",
    "n = n1 + n2 + n3\n",
    "\n",
    "k1 = k - 1\n",
    "k2 = n - k\n",
    "\n",
    "sigma2_F = S2_F / k1\n",
    "sigma2_res = S2_res / k2\n",
    "\n",
    "sigma2_F, sigma2_res"
   ]
  },
  {
   "cell_type": "markdown",
   "metadata": {},
   "source": [
    "Итак, выведем значение статистики  𝑇 и критическое значение $F_{crit}$ при уровене значимости $\\alpha = 0.05$:"
   ]
  },
  {
   "cell_type": "code",
   "execution_count": 8,
   "metadata": {},
   "outputs": [
    {
     "data": {
      "text/plain": [
       "(5.500053450812598, 3.3851899614491687)"
      ]
     },
     "execution_count": 8,
     "metadata": {},
     "output_type": "execute_result"
    }
   ],
   "source": [
    "T = sigma2_F / sigma2_res\n",
    "\n",
    "alpha = 0.05\n",
    "\n",
    "F_crit = stats.f.ppf(1 - alpha, k1, k2)\n",
    "T, F_crit"
   ]
  },
  {
   "cell_type": "code",
   "execution_count": 9,
   "metadata": {},
   "outputs": [
    {
     "data": {
      "text/plain": [
       "True"
      ]
     },
     "execution_count": 9,
     "metadata": {},
     "output_type": "execute_result"
    }
   ],
   "source": [
    "T > F_crit"
   ]
  },
  {
   "cell_type": "markdown",
   "metadata": {},
   "source": [
    "Отличие среднего роста в наших выборках действительно является статистически значимым."
   ]
  },
  {
   "cell_type": "code",
   "execution_count": null,
   "metadata": {},
   "outputs": [],
   "source": []
  },
  {
   "cell_type": "markdown",
   "metadata": {},
   "source": [
    "__Задача 2__\n",
    "\n",
    "С помощью критерия Стьюдента для двух независимых выборок проверьте гипотезу о равенстве среднего роста футболистов и хоккеистов из задачи 1."
   ]
  },
  {
   "cell_type": "markdown",
   "metadata": {},
   "source": [
    "Проверим гипотезу  𝐻0 : средние значения по двум выборкам совпадают"
   ]
  },
  {
   "cell_type": "code",
   "execution_count": 10,
   "metadata": {},
   "outputs": [],
   "source": [
    "X1_mean = football_players.mean()\n",
    "X2_mean = hockey_players.mean()"
   ]
  },
  {
   "cell_type": "code",
   "execution_count": 11,
   "metadata": {},
   "outputs": [
    {
     "data": {
      "text/plain": [
       "0.4583333333333428"
      ]
     },
     "execution_count": 11,
     "metadata": {},
     "output_type": "execute_result"
    }
   ],
   "source": [
    "X = X1_mean - X2_mean\n",
    "X"
   ]
  },
  {
   "cell_type": "markdown",
   "metadata": {},
   "source": [
    "Находим стандартное отклонение выборок:"
   ]
  },
  {
   "cell_type": "code",
   "execution_count": 12,
   "metadata": {},
   "outputs": [],
   "source": [
    "S1 = np.std(football_players, ddof=1)\n",
    "S2 = np.std(hockey_players, ddof=1)"
   ]
  },
  {
   "cell_type": "markdown",
   "metadata": {},
   "source": [
    "Вычисляем эмпирическое значения по формуле t-критерия Стьюдента для независимых выборок:\n",
    "$$T = \\dfrac{\\overline{X_1} -\\overline{X_2}}{\\sqrt{\\frac{\\sigma_1^2}{n_1} + \\frac{\\sigma_2^2}{n_2}}}.$$"
   ]
  },
  {
   "cell_type": "code",
   "execution_count": 13,
   "metadata": {},
   "outputs": [
    {
     "data": {
      "text/plain": [
       "0.43536652964233"
      ]
     },
     "execution_count": 13,
     "metadata": {},
     "output_type": "execute_result"
    }
   ],
   "source": [
    "T = (X1_mean - X2_mean) / np.sqrt(S1 / n1 + S2 / n2)\n",
    "T"
   ]
  },
  {
   "cell_type": "markdown",
   "metadata": {},
   "source": [
    "Вычисляем степени свободы:"
   ]
  },
  {
   "cell_type": "code",
   "execution_count": 14,
   "metadata": {},
   "outputs": [
    {
     "data": {
      "text/plain": [
       "15"
      ]
     },
     "execution_count": 14,
     "metadata": {},
     "output_type": "execute_result"
    }
   ],
   "source": [
    "n1 + n2 - 2"
   ]
  },
  {
   "cell_type": "markdown",
   "metadata": {},
   "source": [
    "критическое значение при р=0,05, указанное в таблице: 2,131\n",
    "\n",
    "0,435 < 2,31"
   ]
  },
  {
   "cell_type": "markdown",
   "metadata": {},
   "source": [
    "Так как рассчитанное значение критерия меньше критического, делаем вывод о том, что наблюдаемые различия статистически не значимы (уровень значимости р<0,05)"
   ]
  },
  {
   "cell_type": "code",
   "execution_count": null,
   "metadata": {},
   "outputs": [],
   "source": []
  },
  {
   "cell_type": "markdown",
   "metadata": {},
   "source": [
    "__Задача 3__\n",
    "\n",
    "Прикрепите ссылку на курсовой проект на github (см. выбор темы в ДЗ к Уроку 6)."
   ]
  },
  {
   "cell_type": "code",
   "execution_count": null,
   "metadata": {},
   "outputs": [],
   "source": [
    "https://github.com/rajulun/Teorver_i_matstat/blob/master/Teorver_i_matstat_project.ipynb"
   ]
  },
  {
   "cell_type": "code",
   "execution_count": null,
   "metadata": {},
   "outputs": [],
   "source": []
  }
 ],
 "metadata": {
  "kernelspec": {
   "display_name": "Python 3",
   "language": "python",
   "name": "python3"
  },
  "language_info": {
   "codemirror_mode": {
    "name": "ipython",
    "version": 3
   },
   "file_extension": ".py",
   "mimetype": "text/x-python",
   "name": "python",
   "nbconvert_exporter": "python",
   "pygments_lexer": "ipython3",
   "version": "3.7.3"
  }
 },
 "nbformat": 4,
 "nbformat_minor": 2
}
