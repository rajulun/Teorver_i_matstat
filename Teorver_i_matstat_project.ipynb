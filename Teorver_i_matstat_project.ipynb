{
 "cells": [
  {
   "cell_type": "code",
   "execution_count": null,
   "metadata": {},
   "outputs": [],
   "source": []
  },
  {
   "cell_type": "code",
   "execution_count": null,
   "metadata": {},
   "outputs": [],
   "source": []
  },
  {
   "cell_type": "code",
   "execution_count": 1,
   "metadata": {},
   "outputs": [],
   "source": [
    "import pandas as pd\n",
    "import numpy as np\n",
    "import matplotlib.pyplot as plt\n",
    "import seaborn as sns\n",
    "import scipy.stats\n",
    "\n",
    "%matplotlib inline"
   ]
  },
  {
   "cell_type": "code",
   "execution_count": 2,
   "metadata": {},
   "outputs": [
    {
     "name": "stderr",
     "output_type": "stream",
     "text": [
      "C:\\ProgramData\\Anaconda3\\lib\\site-packages\\IPython\\core\\interactiveshell.py:3049: DtypeWarning: Columns (5) have mixed types. Specify dtype option on import or set low_memory=False.\n",
      "  interactivity=interactivity, compiler=compiler, result=result)\n"
     ]
    }
   ],
   "source": [
    "basics = pd.read_csv('title.basics.tsv.gz', sep='\\t', encoding='utf-8')\n",
    "ratings = pd.read_csv('title.ratings.tsv.gz', sep='\\t', encoding='utf-8')"
   ]
  },
  {
   "cell_type": "code",
   "execution_count": 3,
   "metadata": {},
   "outputs": [
    {
     "data": {
      "text/html": [
       "<div>\n",
       "<style scoped>\n",
       "    .dataframe tbody tr th:only-of-type {\n",
       "        vertical-align: middle;\n",
       "    }\n",
       "\n",
       "    .dataframe tbody tr th {\n",
       "        vertical-align: top;\n",
       "    }\n",
       "\n",
       "    .dataframe thead th {\n",
       "        text-align: right;\n",
       "    }\n",
       "</style>\n",
       "<table border=\"1\" class=\"dataframe\">\n",
       "  <thead>\n",
       "    <tr style=\"text-align: right;\">\n",
       "      <th></th>\n",
       "      <th>tconst</th>\n",
       "      <th>titleType</th>\n",
       "      <th>primaryTitle</th>\n",
       "      <th>originalTitle</th>\n",
       "      <th>isAdult</th>\n",
       "      <th>startYear</th>\n",
       "      <th>endYear</th>\n",
       "      <th>runtimeMinutes</th>\n",
       "      <th>genres</th>\n",
       "    </tr>\n",
       "  </thead>\n",
       "  <tbody>\n",
       "    <tr>\n",
       "      <th>0</th>\n",
       "      <td>tt0000001</td>\n",
       "      <td>short</td>\n",
       "      <td>Carmencita</td>\n",
       "      <td>Carmencita</td>\n",
       "      <td>0</td>\n",
       "      <td>1894</td>\n",
       "      <td>\\N</td>\n",
       "      <td>1</td>\n",
       "      <td>Documentary,Short</td>\n",
       "    </tr>\n",
       "    <tr>\n",
       "      <th>1</th>\n",
       "      <td>tt0000002</td>\n",
       "      <td>short</td>\n",
       "      <td>Le clown et ses chiens</td>\n",
       "      <td>Le clown et ses chiens</td>\n",
       "      <td>0</td>\n",
       "      <td>1892</td>\n",
       "      <td>\\N</td>\n",
       "      <td>5</td>\n",
       "      <td>Animation,Short</td>\n",
       "    </tr>\n",
       "    <tr>\n",
       "      <th>2</th>\n",
       "      <td>tt0000003</td>\n",
       "      <td>short</td>\n",
       "      <td>Pauvre Pierrot</td>\n",
       "      <td>Pauvre Pierrot</td>\n",
       "      <td>0</td>\n",
       "      <td>1892</td>\n",
       "      <td>\\N</td>\n",
       "      <td>4</td>\n",
       "      <td>Animation,Comedy,Romance</td>\n",
       "    </tr>\n",
       "    <tr>\n",
       "      <th>3</th>\n",
       "      <td>tt0000004</td>\n",
       "      <td>short</td>\n",
       "      <td>Un bon bock</td>\n",
       "      <td>Un bon bock</td>\n",
       "      <td>0</td>\n",
       "      <td>1892</td>\n",
       "      <td>\\N</td>\n",
       "      <td>\\N</td>\n",
       "      <td>Animation,Short</td>\n",
       "    </tr>\n",
       "    <tr>\n",
       "      <th>4</th>\n",
       "      <td>tt0000005</td>\n",
       "      <td>short</td>\n",
       "      <td>Blacksmith Scene</td>\n",
       "      <td>Blacksmith Scene</td>\n",
       "      <td>0</td>\n",
       "      <td>1893</td>\n",
       "      <td>\\N</td>\n",
       "      <td>1</td>\n",
       "      <td>Comedy,Short</td>\n",
       "    </tr>\n",
       "  </tbody>\n",
       "</table>\n",
       "</div>"
      ],
      "text/plain": [
       "      tconst titleType            primaryTitle           originalTitle  \\\n",
       "0  tt0000001     short              Carmencita              Carmencita   \n",
       "1  tt0000002     short  Le clown et ses chiens  Le clown et ses chiens   \n",
       "2  tt0000003     short          Pauvre Pierrot          Pauvre Pierrot   \n",
       "3  tt0000004     short             Un bon bock             Un bon bock   \n",
       "4  tt0000005     short        Blacksmith Scene        Blacksmith Scene   \n",
       "\n",
       "   isAdult startYear endYear runtimeMinutes                    genres  \n",
       "0        0      1894      \\N              1         Documentary,Short  \n",
       "1        0      1892      \\N              5           Animation,Short  \n",
       "2        0      1892      \\N              4  Animation,Comedy,Romance  \n",
       "3        0      1892      \\N             \\N           Animation,Short  \n",
       "4        0      1893      \\N              1              Comedy,Short  "
      ]
     },
     "execution_count": 3,
     "metadata": {},
     "output_type": "execute_result"
    }
   ],
   "source": [
    "basics.head()"
   ]
  },
  {
   "cell_type": "code",
   "execution_count": 4,
   "metadata": {},
   "outputs": [
    {
     "data": {
      "text/html": [
       "<div>\n",
       "<style scoped>\n",
       "    .dataframe tbody tr th:only-of-type {\n",
       "        vertical-align: middle;\n",
       "    }\n",
       "\n",
       "    .dataframe tbody tr th {\n",
       "        vertical-align: top;\n",
       "    }\n",
       "\n",
       "    .dataframe thead th {\n",
       "        text-align: right;\n",
       "    }\n",
       "</style>\n",
       "<table border=\"1\" class=\"dataframe\">\n",
       "  <thead>\n",
       "    <tr style=\"text-align: right;\">\n",
       "      <th></th>\n",
       "      <th>tconst</th>\n",
       "      <th>averageRating</th>\n",
       "      <th>numVotes</th>\n",
       "    </tr>\n",
       "  </thead>\n",
       "  <tbody>\n",
       "    <tr>\n",
       "      <th>0</th>\n",
       "      <td>tt0000001</td>\n",
       "      <td>5.8</td>\n",
       "      <td>1524</td>\n",
       "    </tr>\n",
       "    <tr>\n",
       "      <th>1</th>\n",
       "      <td>tt0000002</td>\n",
       "      <td>6.3</td>\n",
       "      <td>185</td>\n",
       "    </tr>\n",
       "    <tr>\n",
       "      <th>2</th>\n",
       "      <td>tt0000003</td>\n",
       "      <td>6.6</td>\n",
       "      <td>1170</td>\n",
       "    </tr>\n",
       "    <tr>\n",
       "      <th>3</th>\n",
       "      <td>tt0000004</td>\n",
       "      <td>6.3</td>\n",
       "      <td>113</td>\n",
       "    </tr>\n",
       "    <tr>\n",
       "      <th>4</th>\n",
       "      <td>tt0000005</td>\n",
       "      <td>6.2</td>\n",
       "      <td>1882</td>\n",
       "    </tr>\n",
       "  </tbody>\n",
       "</table>\n",
       "</div>"
      ],
      "text/plain": [
       "      tconst  averageRating  numVotes\n",
       "0  tt0000001            5.8      1524\n",
       "1  tt0000002            6.3       185\n",
       "2  tt0000003            6.6      1170\n",
       "3  tt0000004            6.3       113\n",
       "4  tt0000005            6.2      1882"
      ]
     },
     "execution_count": 4,
     "metadata": {},
     "output_type": "execute_result"
    }
   ],
   "source": [
    "ratings.head()"
   ]
  },
  {
   "cell_type": "markdown",
   "metadata": {},
   "source": [
    "__Анализ влияния жанра фильма на его рейтинг__\n",
    "\n",
    "__Предположение: жанр влияет на его рейтинг__\n",
    "\n",
    "__Гипотеза H0: рейтинг фильма не зависит от жанра__\n",
    "\n",
    "__Гипотеза H1: рейтинг фильма зависит от жанра__"
   ]
  },
  {
   "cell_type": "code",
   "execution_count": 5,
   "metadata": {},
   "outputs": [
    {
     "name": "stdout",
     "output_type": "stream",
     "text": [
      "['short' 'movie' 'tvMovie' 'tvSeries' 'tvEpisode' 'tvShort' 'tvMiniSeries'\n",
      " 'tvSpecial' 'video' 'videoGame']\n"
     ]
    }
   ],
   "source": [
    "# изучим типы видео из датасета (столбец titleType):\n",
    "title_types = basics.titleType.unique()\n",
    "print(title_types)"
   ]
  },
  {
   "cell_type": "code",
   "execution_count": 6,
   "metadata": {},
   "outputs": [
    {
     "data": {
      "text/html": [
       "<div>\n",
       "<style scoped>\n",
       "    .dataframe tbody tr th:only-of-type {\n",
       "        vertical-align: middle;\n",
       "    }\n",
       "\n",
       "    .dataframe tbody tr th {\n",
       "        vertical-align: top;\n",
       "    }\n",
       "\n",
       "    .dataframe thead th {\n",
       "        text-align: right;\n",
       "    }\n",
       "</style>\n",
       "<table border=\"1\" class=\"dataframe\">\n",
       "  <thead>\n",
       "    <tr style=\"text-align: right;\">\n",
       "      <th></th>\n",
       "      <th>tconst</th>\n",
       "      <th>titleType</th>\n",
       "      <th>primaryTitle</th>\n",
       "      <th>originalTitle</th>\n",
       "      <th>isAdult</th>\n",
       "      <th>startYear</th>\n",
       "      <th>endYear</th>\n",
       "      <th>runtimeMinutes</th>\n",
       "      <th>genres</th>\n",
       "    </tr>\n",
       "  </thead>\n",
       "  <tbody>\n",
       "    <tr>\n",
       "      <th>8</th>\n",
       "      <td>tt0000009</td>\n",
       "      <td>movie</td>\n",
       "      <td>Miss Jerry</td>\n",
       "      <td>Miss Jerry</td>\n",
       "      <td>0</td>\n",
       "      <td>1894</td>\n",
       "      <td>\\N</td>\n",
       "      <td>45</td>\n",
       "      <td>Romance</td>\n",
       "    </tr>\n",
       "    <tr>\n",
       "      <th>145</th>\n",
       "      <td>tt0000147</td>\n",
       "      <td>movie</td>\n",
       "      <td>The Corbett-Fitzsimmons Fight</td>\n",
       "      <td>The Corbett-Fitzsimmons Fight</td>\n",
       "      <td>0</td>\n",
       "      <td>1897</td>\n",
       "      <td>\\N</td>\n",
       "      <td>20</td>\n",
       "      <td>Documentary,News,Sport</td>\n",
       "    </tr>\n",
       "    <tr>\n",
       "      <th>332</th>\n",
       "      <td>tt0000335</td>\n",
       "      <td>movie</td>\n",
       "      <td>Soldiers of the Cross</td>\n",
       "      <td>Soldiers of the Cross</td>\n",
       "      <td>0</td>\n",
       "      <td>1900</td>\n",
       "      <td>\\N</td>\n",
       "      <td>\\N</td>\n",
       "      <td>Biography,Drama</td>\n",
       "    </tr>\n",
       "    <tr>\n",
       "      <th>499</th>\n",
       "      <td>tt0000502</td>\n",
       "      <td>movie</td>\n",
       "      <td>Bohemios</td>\n",
       "      <td>Bohemios</td>\n",
       "      <td>0</td>\n",
       "      <td>1905</td>\n",
       "      <td>\\N</td>\n",
       "      <td>100</td>\n",
       "      <td>\\N</td>\n",
       "    </tr>\n",
       "    <tr>\n",
       "      <th>571</th>\n",
       "      <td>tt0000574</td>\n",
       "      <td>movie</td>\n",
       "      <td>The Story of the Kelly Gang</td>\n",
       "      <td>The Story of the Kelly Gang</td>\n",
       "      <td>0</td>\n",
       "      <td>1906</td>\n",
       "      <td>\\N</td>\n",
       "      <td>70</td>\n",
       "      <td>Biography,Crime,Drama</td>\n",
       "    </tr>\n",
       "  </tbody>\n",
       "</table>\n",
       "</div>"
      ],
      "text/plain": [
       "        tconst titleType                   primaryTitle  \\\n",
       "8    tt0000009     movie                     Miss Jerry   \n",
       "145  tt0000147     movie  The Corbett-Fitzsimmons Fight   \n",
       "332  tt0000335     movie          Soldiers of the Cross   \n",
       "499  tt0000502     movie                       Bohemios   \n",
       "571  tt0000574     movie    The Story of the Kelly Gang   \n",
       "\n",
       "                     originalTitle  isAdult startYear endYear runtimeMinutes  \\\n",
       "8                       Miss Jerry        0      1894      \\N             45   \n",
       "145  The Corbett-Fitzsimmons Fight        0      1897      \\N             20   \n",
       "332          Soldiers of the Cross        0      1900      \\N             \\N   \n",
       "499                       Bohemios        0      1905      \\N            100   \n",
       "571    The Story of the Kelly Gang        0      1906      \\N             70   \n",
       "\n",
       "                     genres  \n",
       "8                   Romance  \n",
       "145  Documentary,News,Sport  \n",
       "332         Biography,Drama  \n",
       "499                      \\N  \n",
       "571   Biography,Crime,Drama  "
      ]
     },
     "execution_count": 6,
     "metadata": {},
     "output_type": "execute_result"
    }
   ],
   "source": [
    "# выберем тип кино (movie):\n",
    "movies = basics[basics.titleType == 'movie']\n",
    "movies.head()"
   ]
  },
  {
   "cell_type": "code",
   "execution_count": 7,
   "metadata": {},
   "outputs": [],
   "source": [
    "# удалим записи в которых не указан жанр фильма\n",
    "movies = movies[movies.genres != '\\\\N']"
   ]
  },
  {
   "cell_type": "code",
   "execution_count": 8,
   "metadata": {},
   "outputs": [
    {
     "data": {
      "text/html": [
       "<div>\n",
       "<style scoped>\n",
       "    .dataframe tbody tr th:only-of-type {\n",
       "        vertical-align: middle;\n",
       "    }\n",
       "\n",
       "    .dataframe tbody tr th {\n",
       "        vertical-align: top;\n",
       "    }\n",
       "\n",
       "    .dataframe thead th {\n",
       "        text-align: right;\n",
       "    }\n",
       "</style>\n",
       "<table border=\"1\" class=\"dataframe\">\n",
       "  <thead>\n",
       "    <tr style=\"text-align: right;\">\n",
       "      <th></th>\n",
       "      <th>tconst</th>\n",
       "      <th>titleType</th>\n",
       "      <th>primaryTitle</th>\n",
       "      <th>originalTitle</th>\n",
       "      <th>isAdult</th>\n",
       "      <th>startYear</th>\n",
       "      <th>endYear</th>\n",
       "      <th>runtimeMinutes</th>\n",
       "      <th>genres</th>\n",
       "    </tr>\n",
       "  </thead>\n",
       "  <tbody>\n",
       "    <tr>\n",
       "      <th>8</th>\n",
       "      <td>tt0000009</td>\n",
       "      <td>movie</td>\n",
       "      <td>Miss Jerry</td>\n",
       "      <td>Miss Jerry</td>\n",
       "      <td>0</td>\n",
       "      <td>1894</td>\n",
       "      <td>\\N</td>\n",
       "      <td>45</td>\n",
       "      <td>Romance</td>\n",
       "    </tr>\n",
       "    <tr>\n",
       "      <th>145</th>\n",
       "      <td>tt0000147</td>\n",
       "      <td>movie</td>\n",
       "      <td>The Corbett-Fitzsimmons Fight</td>\n",
       "      <td>The Corbett-Fitzsimmons Fight</td>\n",
       "      <td>0</td>\n",
       "      <td>1897</td>\n",
       "      <td>\\N</td>\n",
       "      <td>20</td>\n",
       "      <td>Documentary,News,Sport</td>\n",
       "    </tr>\n",
       "    <tr>\n",
       "      <th>332</th>\n",
       "      <td>tt0000335</td>\n",
       "      <td>movie</td>\n",
       "      <td>Soldiers of the Cross</td>\n",
       "      <td>Soldiers of the Cross</td>\n",
       "      <td>0</td>\n",
       "      <td>1900</td>\n",
       "      <td>\\N</td>\n",
       "      <td>\\N</td>\n",
       "      <td>Biography,Drama</td>\n",
       "    </tr>\n",
       "    <tr>\n",
       "      <th>571</th>\n",
       "      <td>tt0000574</td>\n",
       "      <td>movie</td>\n",
       "      <td>The Story of the Kelly Gang</td>\n",
       "      <td>The Story of the Kelly Gang</td>\n",
       "      <td>0</td>\n",
       "      <td>1906</td>\n",
       "      <td>\\N</td>\n",
       "      <td>70</td>\n",
       "      <td>Biography,Crime,Drama</td>\n",
       "    </tr>\n",
       "    <tr>\n",
       "      <th>611</th>\n",
       "      <td>tt0000615</td>\n",
       "      <td>movie</td>\n",
       "      <td>Robbery Under Arms</td>\n",
       "      <td>Robbery Under Arms</td>\n",
       "      <td>0</td>\n",
       "      <td>1907</td>\n",
       "      <td>\\N</td>\n",
       "      <td>\\N</td>\n",
       "      <td>Drama</td>\n",
       "    </tr>\n",
       "  </tbody>\n",
       "</table>\n",
       "</div>"
      ],
      "text/plain": [
       "        tconst titleType                   primaryTitle  \\\n",
       "8    tt0000009     movie                     Miss Jerry   \n",
       "145  tt0000147     movie  The Corbett-Fitzsimmons Fight   \n",
       "332  tt0000335     movie          Soldiers of the Cross   \n",
       "571  tt0000574     movie    The Story of the Kelly Gang   \n",
       "611  tt0000615     movie             Robbery Under Arms   \n",
       "\n",
       "                     originalTitle  isAdult startYear endYear runtimeMinutes  \\\n",
       "8                       Miss Jerry        0      1894      \\N             45   \n",
       "145  The Corbett-Fitzsimmons Fight        0      1897      \\N             20   \n",
       "332          Soldiers of the Cross        0      1900      \\N             \\N   \n",
       "571    The Story of the Kelly Gang        0      1906      \\N             70   \n",
       "611             Robbery Under Arms        0      1907      \\N             \\N   \n",
       "\n",
       "                     genres  \n",
       "8                   Romance  \n",
       "145  Documentary,News,Sport  \n",
       "332         Biography,Drama  \n",
       "571   Biography,Crime,Drama  \n",
       "611                   Drama  "
      ]
     },
     "execution_count": 8,
     "metadata": {},
     "output_type": "execute_result"
    }
   ],
   "source": [
    "movies.head()"
   ]
  },
  {
   "cell_type": "code",
   "execution_count": 9,
   "metadata": {},
   "outputs": [
    {
     "name": "stdout",
     "output_type": "stream",
     "text": [
      "('Romance', 'Documentary,News,Sport', 'Biography,Drama', 'Biography,Crime,Drama', 'Drama', 'Adventure,Fantasy', 'Comedy', 'Drama,War', 'Documentary', 'Crime', 'Drama,Romance', 'Adventure,Drama', 'Biography,Drama,Family', 'Drama,History', 'War', 'Biography,Drama,History', 'Sci-Fi', 'Adventure,Drama,Fantasy', 'Documentary,War', 'History,War', 'Drama,Western', 'Adventure', 'Drama,Thriller', 'Western', 'Comedy,Drama')\n"
     ]
    }
   ],
   "source": [
    "# взглянем на жанры (столбец genres):\n",
    "genres = tuple(movies.genres.unique())\n",
    "print(genres[:25])"
   ]
  },
  {
   "cell_type": "code",
   "execution_count": 10,
   "metadata": {},
   "outputs": [],
   "source": [
    "# некоторые фильмы относятся сразу к нескольким жанрам\n",
    "# напишем функцию, которая позволит отобрать нужные названия жанров в зависимости от заданного поиска\n",
    "\n",
    "def get_target_genres(data, target):\n",
    "    target_genres = []\n",
    "    for genre in data:\n",
    "        tmp_list = str(genre).lower().split(',') \n",
    "        for item in tmp_list:\n",
    "            if item in target:\n",
    "                target_genres.append(str(genre))\n",
    "    return target_genres"
   ]
  },
  {
   "cell_type": "code",
   "execution_count": 11,
   "metadata": {},
   "outputs": [],
   "source": [
    "columns = ['tconst', 'primaryTitle', 'genres']\n",
    "\n",
    "fantasy_genres = get_target_genres(data=genres, target=('fantasy'))\n",
    "fantasy_movies = movies[movies.genres.isin(fantasy_genres)].loc[:, columns].reset_index(drop=True)\n",
    "\n",
    "horror_genres = get_target_genres(data=genres, target=('horror'))\n",
    "horror_movies = movies[movies.genres.isin(horror_genres)].loc[:, columns].reset_index(drop=True)\n",
    "\n",
    "action_genres = get_target_genres(data=genres, target=('action'))\n",
    "action_movies = movies[movies.genres.isin(action_genres)].loc[:, columns].reset_index(drop=True)"
   ]
  },
  {
   "cell_type": "code",
   "execution_count": 12,
   "metadata": {},
   "outputs": [
    {
     "data": {
      "text/html": [
       "<div>\n",
       "<style scoped>\n",
       "    .dataframe tbody tr th:only-of-type {\n",
       "        vertical-align: middle;\n",
       "    }\n",
       "\n",
       "    .dataframe tbody tr th {\n",
       "        vertical-align: top;\n",
       "    }\n",
       "\n",
       "    .dataframe thead th {\n",
       "        text-align: right;\n",
       "    }\n",
       "</style>\n",
       "<table border=\"1\" class=\"dataframe\">\n",
       "  <thead>\n",
       "    <tr style=\"text-align: right;\">\n",
       "      <th></th>\n",
       "      <th>tconst</th>\n",
       "      <th>primaryTitle</th>\n",
       "      <th>genres</th>\n",
       "      <th>averageRating</th>\n",
       "      <th>numVotes</th>\n",
       "    </tr>\n",
       "  </thead>\n",
       "  <tbody>\n",
       "    <tr>\n",
       "      <th>0</th>\n",
       "      <td>tt0000009</td>\n",
       "      <td>Miss Jerry</td>\n",
       "      <td>Romance</td>\n",
       "      <td>5.5</td>\n",
       "      <td>80</td>\n",
       "    </tr>\n",
       "    <tr>\n",
       "      <th>1</th>\n",
       "      <td>tt0000147</td>\n",
       "      <td>The Corbett-Fitzsimmons Fight</td>\n",
       "      <td>Documentary,News,Sport</td>\n",
       "      <td>5.2</td>\n",
       "      <td>301</td>\n",
       "    </tr>\n",
       "    <tr>\n",
       "      <th>2</th>\n",
       "      <td>tt0000335</td>\n",
       "      <td>Soldiers of the Cross</td>\n",
       "      <td>Biography,Drama</td>\n",
       "      <td>6.3</td>\n",
       "      <td>39</td>\n",
       "    </tr>\n",
       "    <tr>\n",
       "      <th>3</th>\n",
       "      <td>tt0000574</td>\n",
       "      <td>The Story of the Kelly Gang</td>\n",
       "      <td>Biography,Crime,Drama</td>\n",
       "      <td>6.2</td>\n",
       "      <td>516</td>\n",
       "    </tr>\n",
       "    <tr>\n",
       "      <th>4</th>\n",
       "      <td>tt0000615</td>\n",
       "      <td>Robbery Under Arms</td>\n",
       "      <td>Drama</td>\n",
       "      <td>4.8</td>\n",
       "      <td>15</td>\n",
       "    </tr>\n",
       "  </tbody>\n",
       "</table>\n",
       "</div>"
      ],
      "text/plain": [
       "      tconst                   primaryTitle                  genres  \\\n",
       "0  tt0000009                     Miss Jerry                 Romance   \n",
       "1  tt0000147  The Corbett-Fitzsimmons Fight  Documentary,News,Sport   \n",
       "2  tt0000335          Soldiers of the Cross         Biography,Drama   \n",
       "3  tt0000574    The Story of the Kelly Gang   Biography,Crime,Drama   \n",
       "4  tt0000615             Robbery Under Arms                   Drama   \n",
       "\n",
       "   averageRating  numVotes  \n",
       "0            5.5        80  \n",
       "1            5.2       301  \n",
       "2            6.3        39  \n",
       "3            6.2       516  \n",
       "4            4.8        15  "
      ]
     },
     "execution_count": 12,
     "metadata": {},
     "output_type": "execute_result"
    }
   ],
   "source": [
    "movies_ratings = movies.loc[:, columns].merge(ratings)\n",
    "movies_ratings.head()"
   ]
  },
  {
   "cell_type": "markdown",
   "metadata": {},
   "source": [
    "В качестве жанров для исследования выберем:\n",
    "\n",
    "    фэнтези (fantasy)\n",
    "    ужасы (horror)\n",
    "    боевик (action)"
   ]
  },
  {
   "cell_type": "code",
   "execution_count": 13,
   "metadata": {},
   "outputs": [],
   "source": [
    "columns = ['tconst', 'primaryTitle', 'averageRating', 'genres', 'numVotes']\n",
    "\n",
    "fantasy_genres = get_target_genres(data=genres, target=('fantasy'))\n",
    "fantasy_movies = movies_ratings[movies_ratings.genres.isin(fantasy_genres)].loc[:, columns].reset_index(drop=True)\n",
    "\n",
    "horror_genres = get_target_genres(data=genres, target=('horror'))\n",
    "horror_movies = movies_ratings[movies_ratings.genres.isin(horror_genres)].loc[:, columns].reset_index(drop=True)\n",
    "\n",
    "action_genres = get_target_genres(data=genres, target=('action'))\n",
    "action_movies = movies_ratings[movies_ratings.genres.isin(action_genres)].loc[:, columns].reset_index(drop=True)"
   ]
  },
  {
   "cell_type": "markdown",
   "metadata": {},
   "source": [
    "Так как часть фильмов имеет смешанный жанр, выделим в 3 отдельные группы фильмы, которые:\n",
    "\n",
    "    относятся к фэнтези, но не относятся к ужасам и боевикам\n",
    "    относятся к ужасам, но не относится к фэнтези и боевикам\n",
    "    относятся к боевикам, но не относятся к фэнтези и ужасам"
   ]
  },
  {
   "cell_type": "code",
   "execution_count": 14,
   "metadata": {},
   "outputs": [],
   "source": [
    "fantasy = tuple(set(fantasy_movies.tconst) - set(horror_movies.tconst) - set(action_movies.tconst))\n",
    "horror = tuple(set(horror_movies.tconst) - set(fantasy_movies.tconst) - set(action_movies.tconst))\n",
    "action = tuple(set(action_movies.tconst) - set(fantasy_movies.tconst) - set(horror_movies.tconst))"
   ]
  },
  {
   "cell_type": "code",
   "execution_count": 15,
   "metadata": {},
   "outputs": [],
   "source": [
    "fantasy_only = fantasy_movies[fantasy_movies.tconst.isin(fantasy)].reset_index(drop=True)\n",
    "fantasy_only['genres'] = 'fantasy'\n",
    "\n",
    "horror_only = horror_movies[horror_movies.tconst.isin(horror)].reset_index(drop=True)\n",
    "horror_only['genres'] = 'horror'\n",
    "\n",
    "action_only = action_movies[action_movies.tconst.isin(action)].reset_index(drop=True)\n",
    "action_only['genres'] = 'action'"
   ]
  },
  {
   "cell_type": "code",
   "execution_count": 16,
   "metadata": {},
   "outputs": [
    {
     "name": "stdout",
     "output_type": "stream",
     "text": [
      "Fantasy only: 4865 movies\n",
      "Horror only: 14080 movies\n",
      "Action only: 23203 movies\n"
     ]
    }
   ],
   "source": [
    "print(f'Fantasy only: {fantasy_only.shape[0]} movies')\n",
    "print(f'Horror only: {horror_only.shape[0]} movies')\n",
    "print(f'Action only: {action_only.shape[0]} movies')"
   ]
  },
  {
   "cell_type": "markdown",
   "metadata": {},
   "source": [
    "Получившиеся группы фильмов по жанрам отличаются по количеству.\n",
    "\n",
    "Для дальнейшнего анализа отберем из каждой группы (жанра) по 4000 наблюдений случайным образом."
   ]
  },
  {
   "cell_type": "code",
   "execution_count": 17,
   "metadata": {},
   "outputs": [
    {
     "name": "stdout",
     "output_type": "stream",
     "text": [
      "Fantasy only: 4000\n",
      "Horror only: 4000\n",
      "Action only: 4000\n",
      "Total: 12000\n"
     ]
    }
   ],
   "source": [
    "n_sample = 4000\n",
    "\n",
    "y1 = fantasy_only.sample(n=n_sample, random_state=42).averageRating.values\n",
    "y2 = horror_only.sample(n=n_sample, random_state=42).averageRating.values\n",
    "y3 = action_only.sample(n=n_sample, random_state=42).averageRating.values\n",
    "\n",
    "n1 = len(y1)\n",
    "n2 = len(y2)\n",
    "n3 = len(y3)\n",
    "\n",
    "n = n1 + n2 + n3\n",
    "k = 3\n",
    "\n",
    "print(f'Fantasy only: {n1}\\nHorror only: {n2}\\nAction only: {n3}\\nTotal: {n}')"
   ]
  },
  {
   "cell_type": "code",
   "execution_count": 18,
   "metadata": {},
   "outputs": [
    {
     "name": "stdout",
     "output_type": "stream",
     "text": [
      "Средняя и среднекватрическая фильмов жанра Фантастика: mean = 6.135, std = 1.286\n",
      "Средняя и среднекватрическая фильмов жанра Ужасы: mean = 5.0668, std = 1.353\n",
      "Средняя и среднекватрическая фильмов жанра Боевик: mean = 5.805, std = 1.3026\n"
     ]
    }
   ],
   "source": [
    "y1_mean = np.mean(y1)\n",
    "y2_mean = np.mean(y2)\n",
    "y3_mean = np.mean(y3)\n",
    "\n",
    "y1_s2 = np.var(y1, ddof=1)\n",
    "y2_s2 = np.var(y2, ddof=1)\n",
    "y3_s2 = np.var(y3, ddof=1)\n",
    "\n",
    "print(f'Средняя и среднекватрическая фильмов жанра Фантастика: mean = {np.round(y1_mean, 4)}, std = {np.round(y1_s2**0.5, 4)}')\n",
    "print(f'Средняя и среднекватрическая фильмов жанра Ужасы: mean = {np.round(y2_mean, 4)}, std = {np.round(y2_s2**0.5, 4)}')\n",
    "print(f'Средняя и среднекватрическая фильмов жанра Боевик: mean = {np.round(y3_mean, 4)}, std = {np.round(y3_s2**0.5, 4)}')"
   ]
  },
  {
   "cell_type": "code",
   "execution_count": 19,
   "metadata": {},
   "outputs": [
    {
     "data": {
      "image/png": "[encoded data removed]",
      "text/plain": [
       "<Figure size 432x288 with 1 Axes>"
      ]
     },
     "metadata": {
      "needs_background": "light"
     },
     "output_type": "display_data"
    }
   ],
   "source": [
    "movies_only = pd.concat([fantasy_only, horror_only, action_only]).reset_index(drop=True)\n",
    "\n",
    "sns.boxplot(x=\"genres\", y=\"averageRating\", palette=[\"r\", \"g\", \"b\"], data=movies_only)\n",
    "sns.despine(offset=10, trim=True)"
   ]
  },
  {
   "cell_type": "code",
   "execution_count": 20,
   "metadata": {},
   "outputs": [
    {
     "data": {
      "text/plain": [
       "<matplotlib.axes._subplots.AxesSubplot at 0x273c3a19208>"
      ]
     },
     "execution_count": 20,
     "metadata": {},
     "output_type": "execute_result"
    },
    {
     "data": {
      "image/png": "[encoded data removed]",
      "text/plain": [
       "<Figure size 432x288 with 1 Axes>"
      ]
     },
     "metadata": {},
     "output_type": "display_data"
    }
   ],
   "source": [
    "# выбросов не должно быть, но все же глянем :)\n",
    "\n",
    "sns.set(style=\"ticks\", palette=\"pastel\")\n",
    "sns.boxplot(action_movies.averageRating, orient='v')"
   ]
  },
  {
   "cell_type": "code",
   "execution_count": 21,
   "metadata": {},
   "outputs": [
    {
     "data": {
      "text/plain": [
       "<matplotlib.axes._subplots.AxesSubplot at 0x273c3a60278>"
      ]
     },
     "execution_count": 21,
     "metadata": {},
     "output_type": "execute_result"
    },
    {
     "data": {
      "image/png": "[encoded data removed]",
      "text/plain": [
       "<Figure size 432x288 with 1 Axes>"
      ]
     },
     "metadata": {},
     "output_type": "display_data"
    }
   ],
   "source": [
    "sns.distplot(fantasy_only.averageRating)\n",
    "sns.distplot(horror_only.averageRating)\n",
    "sns.distplot(action_only.averageRating)"
   ]
  },
  {
   "cell_type": "code",
   "execution_count": 22,
   "metadata": {},
   "outputs": [
    {
     "name": "stdout",
     "output_type": "stream",
     "text": [
      "Общая средняя и среднекватрическая: mean = 5.6689, std = 1.3879\n"
     ]
    }
   ],
   "source": [
    "y = np.concatenate([y1, y2, y3])\n",
    "\n",
    "y_mean = np.mean(y)\n",
    "\n",
    "y_s2 = np.var(y, ddof=1)\n",
    "\n",
    "print(f'Общая средняя и среднекватрическая: mean = {np.round(y_mean, 4)}, std = {np.round(y_s2**0.5, 4)}')"
   ]
  },
  {
   "cell_type": "code",
   "execution_count": 23,
   "metadata": {},
   "outputs": [
    {
     "name": "stdout",
     "output_type": "stream",
     "text": [
      "Сумма квадратов отклонений наблюдений от общего среднего: 23112.9146\n",
      "Сумма квадратов отклонений средних групповых значений от общего среднего: 2393.4942\n",
      "Остаточная сумма квадратов отклонений: 20719.4204\n"
     ]
    }
   ],
   "source": [
    "ss_g = np.sum((y - y_mean)**2)\n",
    "ss_f = ((y1_mean - y_mean)**2) * n1 + ((y2_mean - y_mean)**2) * n2 + ((y3_mean - y_mean)**2) * n3\n",
    "ss_r = np.sum((y1 - y1_mean)**2) + np.sum((y2 - y2_mean)**2) + np.sum((y3 - y3_mean)**2)\n",
    "\n",
    "print(f'Сумма квадратов отклонений наблюдений от общего среднего: {np.round(ss_g, 4)}')\n",
    "print(f'Сумма квадратов отклонений средних групповых значений от общего среднего: {np.round(ss_f, 4)}')\n",
    "print(f'Остаточная сумма квадратов отклонений: {np.round(ss_r, 4)}')"
   ]
  },
  {
   "cell_type": "code",
   "execution_count": 24,
   "metadata": {},
   "outputs": [
    {
     "name": "stdout",
     "output_type": "stream",
     "text": [
      "Общая дисперсия: 1.9262\n",
      "Факторная дисперсия: 1196.7471\n",
      "Остаточная дисперсия: 1.7271\n"
     ]
    }
   ],
   "source": [
    "s2_g = ss_g / (n - 1)\n",
    "s2_f = ss_f / (k - 1)\n",
    "s2_r = ss_r / (n - k)\n",
    "\n",
    "print(f'Общая дисперсия: {np.round(s2_g, 4)}')\n",
    "print(f'Факторная дисперсия: {np.round(s2_f, 4)}')\n",
    "print(f'Остаточная дисперсия: {np.round(s2_r, 4)}')"
   ]
  },
  {
   "cell_type": "markdown",
   "metadata": {},
   "source": [
    "Распределение Фишера–Снедекора (F-распределение): https://www.matburo.ru/tv/table_fisher.pdf\n",
    "\n",
    "a = 0.05, v1 = k - 1 = 2, v2 = n - k = >60\n",
    "\n",
    "Fтабл = 2.99"
   ]
  },
  {
   "cell_type": "code",
   "execution_count": 25,
   "metadata": {},
   "outputs": [
    {
     "name": "stdout",
     "output_type": "stream",
     "text": [
      "F = 692.9429\n",
      "F_critical = 2.99\n"
     ]
    }
   ],
   "source": [
    "f_h = s2_f / s2_r\n",
    "f_critical = 2.99 \n",
    "\n",
    "print(f'F = {np.round(f_h, 4)}')\n",
    "print(f'F_critical = {np.round(f_critical, 4)}')"
   ]
  },
  {
   "cell_type": "markdown",
   "metadata": {},
   "source": [
    "Полученное значение F = 692.9429 > Fкрит = 2.99.\n",
    "\n",
    "Таким образом, рейтинг фильма зависит от жанра.\n",
    "Принимаем гипотезу H1."
   ]
  },
  {
   "cell_type": "code",
   "execution_count": null,
   "metadata": {},
   "outputs": [],
   "source": []
  },
  {
   "cell_type": "code",
   "execution_count": null,
   "metadata": {},
   "outputs": [],
   "source": []
  },
  {
   "cell_type": "code",
   "execution_count": null,
   "metadata": {},
   "outputs": [],
   "source": []
  }
 ],
 "metadata": {
  "kernelspec": {
   "display_name": "Python 3",
   "language": "python",
   "name": "python3"
  },
  "language_info": {
   "codemirror_mode": {
    "name": "ipython",
    "version": 3
   },
   "file_extension": ".py",
   "mimetype": "text/x-python",
   "name": "python",
   "nbconvert_exporter": "python",
   "pygments_lexer": "ipython3",
   "version": "3.7.3"
  }
 },
 "nbformat": 4,
 "nbformat_minor": 2
}
